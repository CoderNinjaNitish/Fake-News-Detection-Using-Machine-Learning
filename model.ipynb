{
 "cells": [
  {
   "cell_type": "code",
   "execution_count": 6,
   "metadata": {},
   "outputs": [
    {
     "name": "stdout",
     "output_type": "stream",
     "text": [
      "Collecting nltk\n",
      "  Using cached nltk-3.9.1-py3-none-any.whl.metadata (2.9 kB)\n",
      "Collecting click (from nltk)\n",
      "  Using cached click-8.1.8-py3-none-any.whl.metadata (2.3 kB)\n",
      "Requirement already satisfied: joblib in c:\\users\\abhay\\appdata\\local\\programs\\python\\python312\\lib\\site-packages (from nltk) (1.4.2)\n",
      "Collecting regex>=2021.8.3 (from nltk)\n",
      "  Downloading regex-2024.11.6-cp312-cp312-win_amd64.whl.metadata (41 kB)\n",
      "Collecting tqdm (from nltk)\n",
      "  Using cached tqdm-4.67.1-py3-none-any.whl.metadata (57 kB)\n",
      "Requirement already satisfied: colorama in c:\\users\\abhay\\appdata\\local\\programs\\python\\python312\\lib\\site-packages (from click->nltk) (0.4.6)\n",
      "Using cached nltk-3.9.1-py3-none-any.whl (1.5 MB)\n",
      "Downloading regex-2024.11.6-cp312-cp312-win_amd64.whl (273 kB)\n",
      "Using cached click-8.1.8-py3-none-any.whl (98 kB)\n",
      "Using cached tqdm-4.67.1-py3-none-any.whl (78 kB)\n",
      "Installing collected packages: tqdm, regex, click, nltk\n",
      "Successfully installed click-8.1.8 nltk-3.9.1 regex-2024.11.6 tqdm-4.67.1\n",
      "Note: you may need to restart the kernel to use updated packages.\n"
     ]
    },
    {
     "name": "stderr",
     "output_type": "stream",
     "text": [
      "\n",
      "[notice] A new release of pip is available: 24.2 -> 25.0.1\n",
      "[notice] To update, run: python.exe -m pip install --upgrade pip\n"
     ]
    }
   ],
   "source": [
    "pip install nltk\n"
   ]
  },
  {
   "cell_type": "code",
   "execution_count": 8,
   "metadata": {},
   "outputs": [
    {
     "name": "stderr",
     "output_type": "stream",
     "text": [
      "[nltk_data] Downloading package stopwords to\n",
      "[nltk_data]     C:\\Users\\abhay\\AppData\\Roaming\\nltk_data...\n",
      "[nltk_data]   Package stopwords is already up-to-date!\n"
     ]
    },
    {
     "name": "stdout",
     "output_type": "stream",
     "text": [
      "Missing Values:\n",
      " id           0\n",
      "title      558\n",
      "author    1957\n",
      "text        39\n",
      "label        0\n",
      "dtype: int64\n",
      "X Shape: (20800,)\n",
      "Y Shape: (20800,)\n",
      "✅ Accuracy (Training Data): 0.9863581730769231\n",
      "✅ Accuracy (Test Data): 0.9790865384615385\n",
      "📰 The news is REAL\n",
      "Actual Label: 0\n"
     ]
    }
   ],
   "source": [
    "import numpy as np\n",
    "import pandas as pd\n",
    "import re\n",
    "import nltk\n",
    "from nltk.corpus import stopwords\n",
    "from nltk.stem.porter import PorterStemmer\n",
    "from sklearn.feature_extraction.text import TfidfVectorizer\n",
    "from sklearn.model_selection import train_test_split\n",
    "from sklearn.linear_model import LogisticRegression\n",
    "from sklearn.metrics import accuracy_score\n",
    "\n",
    "# 🛠️ Install NLTK stopwords\n",
    "nltk.download('stopwords')\n",
    "\n",
    "# 📂 **Dataset Paths (Update Your File Path If Needed)**\n",
    "train_path = r\"D:\\fake news detection\\fake-news\\train.csv\"\n",
    "test_path = r\"D:\\fake news detection\\fake-news\\test.csv\"\n",
    "submit_path = r\"D:\\fake news detection\\fake-news\\submit.csv\"\n",
    "\n",
    "# 📰 **Loading Dataset**\n",
    "news_dataset = pd.read_csv(train_path)\n",
    "\n",
    "# 🔎 **Check for Missing Values**\n",
    "print(\"Missing Values:\\n\", news_dataset.isnull().sum())\n",
    "\n",
    "# 🚀 **Fill Missing Values**\n",
    "news_dataset = news_dataset.fillna('')\n",
    "\n",
    "# 🔗 **Merging Author & Title**\n",
    "news_dataset['content'] = news_dataset['author'] + ' ' + news_dataset['title']\n",
    "\n",
    "# 📌 **Separating Features (X) & Labels (Y)**\n",
    "X = news_dataset['content']\n",
    "Y = news_dataset['label']\n",
    "\n",
    "print(\"X Shape:\", X.shape)\n",
    "print(\"Y Shape:\", Y.shape)\n",
    "\n",
    "# 🔄 **Text Preprocessing Function (Stemming + Stopword Removal)**\n",
    "port_stem = PorterStemmer()\n",
    "\n",
    "def stemming(content):\n",
    "    content = re.sub('[^a-zA-Z]', ' ', content)  # Remove non-alphabetic characters\n",
    "    content = content.lower().split()  # Lowercase & split words\n",
    "    content = [port_stem.stem(word) for word in content if word not in stopwords.words('english')]\n",
    "    return ' '.join(content)\n",
    "\n",
    "# ✨ **Apply Preprocessing**\n",
    "X = X.apply(stemming)\n",
    "\n",
    "# 🔢 **Convert Text Data to Numerical (TF-IDF)**\n",
    "vectorizer = TfidfVectorizer()\n",
    "X = vectorizer.fit_transform(X)\n",
    "\n",
    "# 🔀 **Train-Test Split**\n",
    "X_train, X_test, Y_train, Y_test = train_test_split(X, Y, test_size=0.2, stratify=Y, random_state=2)\n",
    "\n",
    "# 🏋️ **Train Model (Logistic Regression)**\n",
    "model = LogisticRegression()\n",
    "model.fit(X_train, Y_train)\n",
    "\n",
    "# 📊 **Accuracy Scores**\n",
    "X_train_pred = model.predict(X_train)\n",
    "train_accuracy = accuracy_score(X_train_pred, Y_train)\n",
    "print(\"✅ Accuracy (Training Data):\", train_accuracy)\n",
    "\n",
    "X_test_pred = model.predict(X_test)\n",
    "test_accuracy = accuracy_score(X_test_pred, Y_test)\n",
    "print(\"✅ Accuracy (Test Data):\", test_accuracy)\n",
    "\n",
    "# 🔮 **Prediction on a Sample News**\n",
    "X_new = X_test[3]\n",
    "prediction = model.predict(X_new.reshape(1, -1))  # Reshape to avoid errors\n",
    "\n",
    "if prediction[0] == 0:\n",
    "    print(\"📰 The news is REAL\")\n",
    "else:\n",
    "    print(\"⚠️ The news is FAKE\")\n",
    "\n",
    "print(\"Actual Label:\", Y_test.iloc[3])\n"
   ]
  },
  {
   "cell_type": "code",
   "execution_count": 2,
   "metadata": {},
   "outputs": [
    {
     "ename": "NameError",
     "evalue": "name 'model' is not defined",
     "output_type": "error",
     "traceback": [
      "\u001b[1;31m---------------------------------------------------------------------------\u001b[0m",
      "\u001b[1;31mNameError\u001b[0m                                 Traceback (most recent call last)",
      "Cell \u001b[1;32mIn[2], line 4\u001b[0m\n\u001b[0;32m      1\u001b[0m \u001b[38;5;28;01mimport\u001b[39;00m \u001b[38;5;21;01mjoblib\u001b[39;00m\n\u001b[0;32m      3\u001b[0m \u001b[38;5;66;03m# ✅ Save model & vectorizer in correct path\u001b[39;00m\n\u001b[1;32m----> 4\u001b[0m joblib\u001b[38;5;241m.\u001b[39mdump(\u001b[43mmodel\u001b[49m, \u001b[38;5;124m\"\u001b[39m\u001b[38;5;124mD:/fake news detection/model_fake_news.joblib\u001b[39m\u001b[38;5;124m\"\u001b[39m)\n\u001b[0;32m      5\u001b[0m joblib\u001b[38;5;241m.\u001b[39mdump(vectorizer, \u001b[38;5;124m\"\u001b[39m\u001b[38;5;124mD:/fake news detection/vectorizer_fake_news.joblib\u001b[39m\u001b[38;5;124m\"\u001b[39m)\n\u001b[0;32m      7\u001b[0m \u001b[38;5;28mprint\u001b[39m(\u001b[38;5;124m\"\u001b[39m\u001b[38;5;124m🎉 Model aur Vectorizer `.joblib` me save ho gaye ✅\u001b[39m\u001b[38;5;124m\"\u001b[39m)\n",
      "\u001b[1;31mNameError\u001b[0m: name 'model' is not defined"
     ]
    }
   ],
   "source": [
    "import joblib\n",
    "\n",
    "# ✅ Save model & vectorizer in correct path\n",
    "joblib.dump(model, \"D:/fake news detection/model_fake_news.joblib\")\n",
    "joblib.dump(vectorizer, \"D:/fake news detection/vectorizer_fake_news.joblib\")\n",
    "\n",
    "print(\"🎉 Model aur Vectorizer `.joblib` me save ho gaye ✅\")\n"
   ]
  }
 ],
 "metadata": {
  "kernelspec": {
   "display_name": "Python 3",
   "language": "python",
   "name": "python3"
  },
  "language_info": {
   "codemirror_mode": {
    "name": "ipython",
    "version": 3
   },
   "file_extension": ".py",
   "mimetype": "text/x-python",
   "name": "python",
   "nbconvert_exporter": "python",
   "pygments_lexer": "ipython3",
   "version": "3.12.5"
  }
 },
 "nbformat": 4,
 "nbformat_minor": 2
}
